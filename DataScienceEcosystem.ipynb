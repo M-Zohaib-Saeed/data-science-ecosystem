{
 "cells": [
  {
   "cell_type": "markdown",
   "id": "57ff9459-1ec6-4848-997a-3f04c4f8437d",
   "metadata": {},
   "source": [
    "Exercise 2: Title of the Notebook"
   ]
  },
  {
   "cell_type": "markdown",
   "id": "33d1206c-7bf6-444d-a10c-3aba1fa8d114",
   "metadata": {},
   "source": [
    "# Data Science Tools and Ecosystem\n"
   ]
  },
  {
   "cell_type": "markdown",
   "id": "24751b10-2d60-4754-a797-1c198404309f",
   "metadata": {},
   "source": [
    "Exercise 3: Introduction Cell"
   ]
  },
  {
   "cell_type": "markdown",
   "id": "66015bc4-8edd-4629-ab4c-689a8cb27444",
   "metadata": {},
   "source": [
    "In this notebook, Data Science Tools and Ecosystem are summarized.\n"
   ]
  },
  {
   "cell_type": "markdown",
   "id": "f5ac328e-2420-427b-a148-54acb997dd0d",
   "metadata": {},
   "source": [
    "Exercise 4: Popular Data Science Languages"
   ]
  },
  {
   "cell_type": "markdown",
   "id": "197e7b8c-4e99-4912-a080-2358ad994691",
   "metadata": {},
   "source": [
    "Some of the popular languages that Data Scientists use are:\n",
    "1. Python\n",
    "2. R\n",
    "3. SQL\n",
    "4. Julia\n"
   ]
  },
  {
   "cell_type": "markdown",
   "id": "8bcd4955-5831-464e-9462-0752b9ea054f",
   "metadata": {},
   "source": [
    "Exercise 5: Common Libraries"
   ]
  },
  {
   "cell_type": "markdown",
   "id": "a55e8c95-e188-4164-b3cc-f2de6d7594ae",
   "metadata": {},
   "source": [
    "Some of the commonly used libraries used by Data Scientists include:\n",
    "1. Pandas\n",
    "2. NumPy\n",
    "3. Scikit-learn\n",
    "4. Matplotlib\n"
   ]
  },
  {
   "cell_type": "markdown",
   "id": "ff784d86-c536-42b8-9f75-0b569e88ce71",
   "metadata": {},
   "source": [
    "Exercise 6: Table of Tools"
   ]
  },
  {
   "cell_type": "markdown",
   "id": "9ab10e1c-3654-4b89-8871-c095f21148b0",
   "metadata": {},
   "source": [
    "| Data Science Tools        |\n",
    "|---------------------------|\n",
    "| Jupyter Notebook          |\n",
    "| RStudio                   |\n",
    "| Apache Zeppelin           |\n"
   ]
  },
  {
   "cell_type": "markdown",
   "id": "8d3cd4b4-f6ab-42cf-b997-1ffd5c5a3b5c",
   "metadata": {},
   "source": [
    " Exercise 7: Arithmetic Expression Heading"
   ]
  },
  {
   "cell_type": "markdown",
   "id": "9c374ccf-0f56-46d2-b258-4185b41a0e82",
   "metadata": {},
   "source": [
    "### Below are a few examples of evaluating arithmetic expressions in Python.\n"
   ]
  },
  {
   "cell_type": "markdown",
   "id": "9cef31e0-4302-4b5a-81e9-85012fb4e72a",
   "metadata": {},
   "source": [
    "Exercise 8: Multiply and Add"
   ]
  },
  {
   "cell_type": "code",
   "execution_count": 1,
   "id": "60e7165f-9ad4-4001-8bcc-52aa7b1f7151",
   "metadata": {},
   "outputs": [
    {
     "data": {
      "text/plain": [
       "17"
      ]
     },
     "execution_count": 1,
     "metadata": {},
     "output_type": "execute_result"
    }
   ],
   "source": [
    "# This a simple arithmetic expression to multiply then add integers\n",
    "(3*4)+5\n"
   ]
  },
  {
   "cell_type": "markdown",
   "id": "4fd844dc-e255-4ebc-aa1f-e4883c9cc0ee",
   "metadata": {},
   "source": [
    "Exercise 9: Minutes to Hours"
   ]
  },
  {
   "cell_type": "code",
   "execution_count": 2,
   "id": "f2e6fc86-ddf2-4618-a8c8-01e494d2a7f5",
   "metadata": {},
   "outputs": [
    {
     "data": {
      "text/plain": [
       "3.3333333333333335"
      ]
     },
     "execution_count": 2,
     "metadata": {},
     "output_type": "execute_result"
    }
   ],
   "source": [
    "# This will convert 200 minutes to hours by dividing by 60\n",
    "200 / 60\n"
   ]
  },
  {
   "cell_type": "markdown",
   "id": "fde6eb75-d416-48c4-b97f-79bd73b152a3",
   "metadata": {},
   "source": [
    "**Objectives:**\n",
    "- List popular languages for Data Science\n",
    "- List commonly used libraries\n",
    "- Create and format markdown cells\n",
    "- Perform simple arithmetic expressions in code cells\n",
    "- Share a Jupyter notebook via GitHub\n"
   ]
  },
  {
   "cell_type": "markdown",
   "id": "db332276-81bf-4b16-a7c1-95f30b9563ef",
   "metadata": {},
   "source": [
    "## Author\n",
    "Zohaib Saeed\n"
   ]
  }
 ],
 "metadata": {
  "kernelspec": {
   "display_name": "Python 3 (ipykernel)",
   "language": "python",
   "name": "python3"
  },
  "language_info": {
   "codemirror_mode": {
    "name": "ipython",
    "version": 3
   },
   "file_extension": ".py",
   "mimetype": "text/x-python",
   "name": "python",
   "nbconvert_exporter": "python",
   "pygments_lexer": "ipython3",
   "version": "3.12.8"
  }
 },
 "nbformat": 4,
 "nbformat_minor": 5
}
